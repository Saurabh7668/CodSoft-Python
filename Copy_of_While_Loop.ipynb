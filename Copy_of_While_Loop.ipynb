{
  "nbformat": 4,
  "nbformat_minor": 0,
  "metadata": {
    "colab": {
      "provenance": [],
      "gpuType": "T4",
      "authorship_tag": "ABX9TyMxUpdXZIbQVujfJlquVPjS",
      "include_colab_link": true
    },
    "kernelspec": {
      "name": "python3",
      "display_name": "Python 3"
    },
    "language_info": {
      "name": "python"
    },
    "accelerator": "GPU"
  },
  "cells": [
    {
      "cell_type": "markdown",
      "metadata": {
        "id": "view-in-github",
        "colab_type": "text"
      },
      "source": [
        "<a href=\"https://colab.research.google.com/github/Saurabh7668/CodSoft-Python/blob/main/Copy_of_While_Loop.ipynb\" target=\"_parent\"><img src=\"https://colab.research.google.com/assets/colab-badge.svg\" alt=\"Open In Colab\"/></a>"
      ]
    },
    {
      "cell_type": "code",
      "execution_count": null,
      "metadata": {
        "colab": {
          "base_uri": "https://localhost:8080/"
        },
        "id": "6-or3BtH0Lyj",
        "outputId": "d02ac672-014d-4621-a406-76080a478c15"
      },
      "outputs": [
        {
          "output_type": "stream",
          "name": "stdout",
          "text": [
            "0\n",
            "1\n",
            "2\n",
            "3\n",
            "4\n"
          ]
        }
      ],
      "source": [
        "# While statement is like if satement.\n",
        "i=0\n",
        "while i<5:\n",
        "  print(i)\n",
        "  i = i+1"
      ]
    },
    {
      "cell_type": "code",
      "source": [
        "# a break statement is used to break from a loop\n",
        "i = 0\n",
        "while i<10:\n",
        "  if i==9:\n",
        "    break\n",
        "  print(i)\n",
        "  i=i+1"
      ],
      "metadata": {
        "colab": {
          "base_uri": "https://localhost:8080/"
        },
        "id": "IaqdN5l-2FAH",
        "outputId": "474d59b5-b286-46fb-a418-bfbf5d5cb51e"
      },
      "execution_count": null,
      "outputs": [
        {
          "output_type": "stream",
          "name": "stdout",
          "text": [
            "0\n",
            "1\n",
            "2\n",
            "3\n",
            "4\n",
            "5\n",
            "6\n",
            "7\n",
            "8\n"
          ]
        }
      ]
    },
    {
      "cell_type": "code",
      "source": [
        "# A condition statement stops the flow and goes back agaain to the starting point of blocl.\n",
        "#\n",
        "#continue - goes back to start of the block\n",
        "\n",
        "i=0\n",
        "while i<20:\n",
        "  if(i%2==0):\n",
        "    i=i+1\n",
        "    print(\"Inside continue\",i)\n",
        "    continue\n",
        "  i=i+2\n",
        "  print(i)\n",
        "  i=i+1"
      ],
      "metadata": {
        "colab": {
          "base_uri": "https://localhost:8080/"
        },
        "id": "7wt2EufG3i-x",
        "outputId": "d2272a85-6bf1-4d38-d6b7-6fafa684ec38"
      },
      "execution_count": null,
      "outputs": [
        {
          "output_type": "stream",
          "name": "stdout",
          "text": [
            "Inside continue 1\n",
            "3\n",
            "Inside continue 5\n",
            "7\n",
            "Inside continue 9\n",
            "11\n",
            "Inside continue 13\n",
            "15\n",
            "Inside continue 17\n",
            "19\n"
          ]
        }
      ]
    },
    {
      "cell_type": "code",
      "source": [
        " #using else statement with while loop\n",
        "count =0\n",
        "while count<15:\n",
        "  print(count,\"is less than 5\")\n",
        "  count=count+1\n",
        "else:\n",
        "  print(count,\" is not less than 5\")"
      ],
      "metadata": {
        "colab": {
          "base_uri": "https://localhost:8080/"
        },
        "id": "g9g26HpQ4khV",
        "outputId": "f972df17-d7c3-48e4-909d-b1e2c1bcba2e"
      },
      "execution_count": null,
      "outputs": [
        {
          "output_type": "stream",
          "name": "stdout",
          "text": [
            "0 is less than 5\n",
            "1 is less than 5\n",
            "2 is less than 5\n",
            "3 is less than 5\n",
            "4 is less than 5\n",
            "5 is less than 5\n",
            "6 is less than 5\n",
            "7 is less than 5\n",
            "8 is less than 5\n",
            "9 is less than 5\n",
            "10 is less than 5\n",
            "11 is less than 5\n",
            "12 is less than 5\n",
            "13 is less than 5\n",
            "14 is less than 5\n",
            "15  is not less than 5\n"
          ]
        }
      ]
    },
    {
      "cell_type": "code",
      "source": [],
      "metadata": {
        "id": "DemiQpKI8QH5"
      },
      "execution_count": null,
      "outputs": []
    }
  ]
}